{
 "cells": [
  {
   "cell_type": "markdown",
   "id": "7f9fbc06-d42b-42e3-b901-bd52a0a5e1fa",
   "metadata": {},
   "source": [
    "# WikiSearch - Article summary generator"
   ]
  },
  {
   "cell_type": "markdown",
   "id": "7cac69fa-a587-457e-b3d3-4bce40b0d497",
   "metadata": {},
   "source": [
    "importing wikipedia and other necessary libraries"
   ]
  },
  {
   "cell_type": "code",
   "execution_count": 56,
   "id": "8d43caee-e3c8-42b9-a20c-03be7578085a",
   "metadata": {},
   "outputs": [],
   "source": [
    "import wikipedia  \n",
    "import requests"
   ]
  },
  {
   "cell_type": "markdown",
   "id": "5e77eb9e-42f9-49f5-b553-d806e703c71d",
   "metadata": {},
   "source": [
    "check internet connection"
   ]
  },
  {
   "cell_type": "code",
   "execution_count": 57,
   "id": "b132cd21-dc43-40fa-868f-eee2abcbbba2",
   "metadata": {},
   "outputs": [
    {
     "data": {
      "text/plain": [
       "True"
      ]
     },
     "execution_count": 57,
     "metadata": {},
     "output_type": "execute_result"
    }
   ],
   "source": [
    "def check_internet_connection():\n",
    "    try:\n",
    "        # Attempt to make an HTTP GET request to a reliable site\n",
    "        response = requests.get(\"https://www.google.com\", timeout=5)\n",
    "        # Check if the request was successful (status code 200)\n",
    "        return response.status_code == 200\n",
    "    except requests.ConnectionError:\n",
    "        return False\n",
    "    except requests.Timeout:\n",
    "        return False\n",
    "check_internet_connection()"
   ]
  },
  {
   "cell_type": "markdown",
   "id": "de16be2e-6c1f-47a3-ab08-f76080000024",
   "metadata": {},
   "source": [
    "creating main logic of the project for finding article"
   ]
  },
  {
   "cell_type": "code",
   "execution_count": 97,
   "id": "6ec052e0-4642-48c6-bced-8683d13a51d4",
   "metadata": {},
   "outputs": [
    {
     "name": "stdin",
     "output_type": "stream",
     "text": [
      "Search: elonmusk\n",
      "Number of Sentence: 10\n"
     ]
    },
    {
     "name": "stdout",
     "output_type": "stream",
     "text": [
      "Elon Reeve Musk  (; born June 28, 1971) is a businessman and investor known for his key roles in space company SpaceX and automotive company Tesla, Inc. Other involvements include ownership of X Corp., the company that operates the social media platform X (formerly known as Twitter), and his role in the founding of The Boring Company, xAI, Neuralink and OpenAI. He is one of the wealthiest people in the world; as of August 2024, Forbes estimates his net worth to be US$241 billion.\n",
      "Musk was born in Pretoria to model Maye and businessman and engineer Errol Musk, and briefly attended the University of Pretoria before immigrating to Canada at age 18, acquiring citizenship through his Canadian-born mother. Two years later, he matriculated at Queen's University at Kingston in Canada. Musk later transferred to the University of Pennsylvania and received bachelor's degrees in economics and physics. He moved to California in 1995 to attend Stanford University, but dropped out after two days and, with his brother Kimbal, co-founded online city guide software company Zip2. The startup was acquired by Compaq for $307 million in 1999. That same year, Musk co-founded X.com, a direct bank. X.com merged with Confinity in 2000 to form PayPal. In October 2002, eBay acquired PayPal for $1.5 billion.\n"
     ]
    }
   ],
   "source": [
    "def wiki_search(search)->str:\n",
    "    ### writing main logicb in try except block\n",
    "    try:\n",
    "        result = wikipedia.summary(\n",
    "            title=search,chars=32,\n",
    "            sentences=10\n",
    "        )\n",
    "        return result\n",
    "    except Exception as err:\n",
    "        print(\"Something Wrent wrong...\")\n",
    "        print(err)\n",
    "\n",
    "if __name__==\"__main__\":\n",
    "    Input_search = input(\"Search:\")\n",
    "\n",
    "    output = wiki_search(search=Input_search)\n",
    "    print(output)"
   ]
  },
  {
   "cell_type": "markdown",
   "id": "bb0d3581-2b31-42e2-b47e-1a2c0d97f3a5",
   "metadata": {},
   "source": [
    "# generating title, article url ,summary of the article\n"
   ]
  },
  {
   "cell_type": "code",
   "execution_count": 106,
   "id": "b37a266c-56b8-4f25-aaed-1c680b3cdc46",
   "metadata": {},
   "outputs": [
    {
     "name": "stdout",
     "output_type": "stream",
     "text": [
      "Detailed Summary on elonmusk\n",
      "\n",
      "Article Title: Elon Musk\n",
      "Article url: https://en.wikipedia.org/wiki/Elon_Musk\n",
      "\n",
      "\n",
      "Elon Reeve Musk  (; born June 28, 1971) is a businessman and investor known for his key roles in space company SpaceX and automotive company Tesla, Inc. Other involvements include ownership of X Corp., the company that operates the social media platform X (formerly known as Twitter), and his role in the founding of The Boring Company, xAI, Neuralink and OpenAI. He is one of the wealthiest people in the world; as of August 2024, Forbes estimates his net worth to be US$241 billion.\n",
      "Musk was born in Pretoria to model Maye and businessman and engineer Errol Musk, and briefly attended the University of Pretoria before immigrating to Canada at age 18, acquiring citizenship through his Canadian-born mother. Two years later, he matriculated at Queen's University at Kingston in Canada. Musk later transferred to the University of Pennsylvania and received bachelor's degrees in economics and physics. He moved to California in 1995 to attend Stanford University, but dropped out after two days and, with his brother Kimbal, co-founded online city guide software company Zip2. The startup was acquired by Compaq for $307 million in 1999. That same year, Musk co-founded X.com, a direct bank. X.com merged with Confinity in 2000 to form PayPal. In October 2002, eBay acquired PayPal for $1.5 billion. Using $100 million of the money he made from the sale of PayPal, Musk founded SpaceX, a spaceflight services company, in 2002. \n",
      "In 2004, Musk was an early investor who provided most of the initial financing in electric vehicle manufacturer Tesla Motors, Inc. (later Tesla, Inc.), assuming the position of the company's chairman. He later became the product architect, and in 2008 the CEO. In 2006, Musk helped create SolarCity, a solar energy company that was acquired by Tesla in 2016 and became Tesla Energy. In 2013, he proposed a hyperloop high-speed vactrain transportation system. In 2015, he co-founded OpenAI, a nonprofit artificial intelligence research company. The following year, Musk co-founded Neuralink—a neurotechnology company developing brain–computer interfaces—and The Boring Company, a tunnel construction company. In 2018, the U.S. Securities and Exchange Commission (SEC) sued Musk, alleging that he had falsely announced that he had secured funding for a private takeover of Tesla. To settle the case, Musk stepped down as the chairman of Tesla and paid a $20-million fine. In 2022, he acquired Twitter for $44 billion, merged the company into newly created X Corp. and rebranded the service as X the following year. In March 2023, Musk founded xAI, an artificial intelligence company.\n",
      "Musk has expressed views that have made him a polarizing figure. He has been criticized for making unscientific and misleading statements, including COVID-19 misinformation, promoting right-wing conspiracy theories, and \"endorsing an antisemitic theory\", the latter of which he later apologized for. His ownership of Twitter has been similarly controversial, being marked by layoffs of large numbers of employees, an increase in hate speech, misinformation and disinformation posts on the website, and changes to Twitter Blue verification.\n",
      "\n",
      "\n"
     ]
    }
   ],
   "source": [
    "try:\n",
    "    article = wikipedia.page(Input_search)\n",
    "    article_title = article.title\n",
    "    article_url = article.url\n",
    "    article_summary = article.summary\n",
    "    \n",
    "    print(f\"Detailed Summary on {Input_search}\",end=\"\\n\\n\")\n",
    "    print(f\"Article Title: {article_title}\")\n",
    "    print(f\"Article url: {article_url}\")\n",
    "    print()\n",
    "    print()\n",
    "    print(article_summary)\n",
    "except Exception as err:\n",
    "    print(\"something went wrong...\")\n",
    "    print(err)"
   ]
  },
  {
   "cell_type": "markdown",
   "id": "a7b0cfd2-cfa9-43ba-9e43-67c1e127e26b",
   "metadata": {},
   "source": [
    "# finding similar searches"
   ]
  },
  {
   "cell_type": "code",
   "execution_count": 111,
   "id": "992ff26e-254f-41b6-9274-f51b2902d4c2",
   "metadata": {},
   "outputs": [
    {
     "name": "stdout",
     "output_type": "stream",
     "text": [
      "List of most-followed Twitter accounts,  Elon Musk,  Twitter under Elon Musk,  Vox populi,  Meme Man,  Autonomous spaceport drone ship,  SpaceX Starship flight tests,  ElonJet,  List of most-liked tweets,  Tesla Roadster (second generation),  "
     ]
    }
   ],
   "source": [
    "try:\n",
    "    similar_search = wikipedia.search(Input_search)\n",
    "    for i in similar_search:\n",
    "        print(i+\", \",end=\" \")\n",
    "except:\n",
    "    print(\"something went wrong...\")\n"
   ]
  },
  {
   "cell_type": "code",
   "execution_count": null,
   "id": "748dd2af-f0a7-47f1-a303-2531fe12b707",
   "metadata": {},
   "outputs": [],
   "source": []
  },
  {
   "cell_type": "markdown",
   "id": "8f223668-e8bc-494e-8f1e-75f7397a96ff",
   "metadata": {},
   "source": [
    "now converting this project into streamlit application\n"
   ]
  },
  {
   "cell_type": "markdown",
   "id": "52073a82-c268-4845-b77c-bd25e89747fc",
   "metadata": {},
   "source": [
    "github: https://github.com/Nishant43S"
   ]
  },
  {
   "cell_type": "code",
   "execution_count": null,
   "id": "a113663c-c33d-4e2d-b603-4eb98af8db9d",
   "metadata": {},
   "outputs": [],
   "source": []
  },
  {
   "cell_type": "code",
   "execution_count": null,
   "id": "e204233a-581e-409c-9894-776c925d6ec7",
   "metadata": {},
   "outputs": [],
   "source": []
  },
  {
   "cell_type": "code",
   "execution_count": null,
   "id": "06db4411-e5c4-4652-b298-d83f51f4d517",
   "metadata": {},
   "outputs": [],
   "source": []
  },
  {
   "cell_type": "code",
   "execution_count": null,
   "id": "e5d7cf64-a0e2-4659-91d3-32d6698b181e",
   "metadata": {},
   "outputs": [],
   "source": []
  }
 ],
 "metadata": {
  "kernelspec": {
   "display_name": "Python 3 (ipykernel)",
   "language": "python",
   "name": "python3"
  },
  "language_info": {
   "codemirror_mode": {
    "name": "ipython",
    "version": 3
   },
   "file_extension": ".py",
   "mimetype": "text/x-python",
   "name": "python",
   "nbconvert_exporter": "python",
   "pygments_lexer": "ipython3",
   "version": "3.11.7"
  },
  "widgets": {
   "application/vnd.jupyter.widget-state+json": {
    "state": {},
    "version_major": 2,
    "version_minor": 0
   }
  }
 },
 "nbformat": 4,
 "nbformat_minor": 5
}
